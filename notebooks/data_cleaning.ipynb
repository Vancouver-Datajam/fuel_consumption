{
 "cells": [
  {
   "cell_type": "markdown",
   "metadata": {},
   "source": [
    "# Code to parse raw fuel consumption data files\n",
    "### Created: Sept 15, 2023\n",
    "### Last Modified: Sept 15, 2023"
   ]
  },
  {
   "cell_type": "code",
   "execution_count": 28,
   "metadata": {},
   "outputs": [],
   "source": [
    "import os\n",
    "import glob\n",
    "import pandas as pd\n",
    "import numpy as np\n",
    "import matplotlib.pyplot as plt\n",
    "import seaborn as sns"
   ]
  },
  {
   "cell_type": "code",
   "execution_count": 32,
   "metadata": {},
   "outputs": [
    {
     "name": "stderr",
     "output_type": "stream",
     "text": [
      "/var/folders/dn/bf2tvd6d5_s45nmnjprf1bqm0000gn/T/ipykernel_51870/2254342580.py:4: DtypeWarning: Columns (0,1,2,3,6,7) have mixed types. Specify dtype option on import or set low_memory=False.\n",
      "  df = pd.read_csv(filename, skiprows=[0], encoding='unicode_escape')\n"
     ]
    }
   ],
   "source": [
    "def parse_files(directory):\n",
    "    for filename in glob.iglob(directory):\n",
    "        # read in all files in \"data/raw\" directory\n",
    "        df = pd.read_csv(filename, skiprows=[0], encoding='unicode_escape')\n",
    "        # replace missing data with np.nan\n",
    "        df.fillna(np.nan)\n",
    "        # drop columns that have all missing data\n",
    "        df.dropna(how='all', axis=1, inplace=True)\n",
    "        # create a boolean mask that will indicates rows with all missing data\n",
    "        mask = df.isna().all(axis=1)\n",
    "        # convert the indices of the rows to a list\n",
    "        rows_all_na = df[mask].index.tolist()\n",
    "        # remove all rows in the dataframe after the first row of missing data (the data dictionary)\n",
    "        df = df.iloc[:rows_all_na[0]]\n",
    "        # replace column names, write out clean files\n",
    "        if 'Battery' in filename:\n",
    "            df.columns = ['year', 'make', 'model', 'class', 'motor', 'transmission','fuel','city(kWh/100km)', \n",
    "                      'hwy(kWh/100km)', 'comb(kWh/100km)', 'city(Le/100km)', 'hwy(Le/100km)',\n",
    "                      'comb(Le/100km)', 'range', 'co2_emissions', 'co2_rating', 'smog_rating', 'recharge_time']\n",
    "            # select rows where year == 2023\n",
    "            df = df[df.year == '2023']\n",
    "            df.to_csv('data/clean/battery.csv', index=False)\n",
    "        elif 'Hybrid' in filename:\n",
    "            df.columns = ['year', 'make', 'model', 'class', 'motor', 'engine_size', 'cylinders', 'transmission',\n",
    "                      'fuel_1', 'comb(Le/100Km)', 'range_1', 'recharge_time', 'fuel_2', \n",
    "                      'city(L/100km)', 'hwy(L/100km)', 'comb(L/100km)', 'range_2', 'co2_emissions', \n",
    "                      'co2_rating', 'smog_rating']\n",
    "            # select rows where year == 2023\n",
    "            df = df[df.year == '2023']\n",
    "            df.to_csv('data/clean/hybrid.csv', index=False)\n",
    "        else:\n",
    "            df.columns = ['year', 'make', 'model', 'class', 'engine_size', 'cylinders', 'transmission',\n",
    "                      'fuel', 'city(L/100km)', 'hwy(L/100km)', 'comb(L/100km)', 'comb(mpg)', 'co2_emissions', \n",
    "                      'co2_rating', 'smog_rating']\n",
    "            df.to_csv('data/clean/fuel.csv', index=False)\n",
    "parse_files('data/raw/*.csv')"
   ]
  }
 ],
 "metadata": {
  "kernelspec": {
   "display_name": "base",
   "language": "python",
   "name": "python3"
  },
  "language_info": {
   "codemirror_mode": {
    "name": "ipython",
    "version": 3
   },
   "file_extension": ".py",
   "mimetype": "text/x-python",
   "name": "python",
   "nbconvert_exporter": "python",
   "pygments_lexer": "ipython3",
   "version": "3.8.2"
  },
  "orig_nbformat": 4
 },
 "nbformat": 4,
 "nbformat_minor": 2
}
